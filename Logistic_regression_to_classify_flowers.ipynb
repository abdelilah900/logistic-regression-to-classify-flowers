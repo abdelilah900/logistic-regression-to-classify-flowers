{
  "cells": [
    {
      "cell_type": "markdown",
      "metadata": {},
      "source": [
        "# Logistic regression to classify flowers\n",
        "\n",
        "#### DAHAMOU Abdelilah"
      ]
    },
    {
      "cell_type": "code",
      "execution_count": 131,
      "metadata": {
        "id": "cYQJK01YFBOp"
      },
      "outputs": [],
      "source": [
        "# Importing pandas and numpy and datasets\n",
        "import pandas as pd\n",
        "import numpy as np\n",
        "import matplotlib.pyplot as plt \n",
        "import seaborn as sns    \n",
        "from  sklearn import  datasets"
      ]
    },
    {
      "cell_type": "code",
      "execution_count": 132,
      "metadata": {
        "id": "f6Eg_CnbFBOv"
      },
      "outputs": [],
      "source": [
        "# Reading the csv file into a pandas DataFrame\n",
        "iris=datasets.load_iris()\n",
        "data = pd.DataFrame(data= np.c_[iris['data'], iris['target']],columns= iris['feature_names'] + ['target'])"
      ]
    },
    {
      "cell_type": "code",
      "execution_count": 133,
      "metadata": {
        "colab": {
          "base_uri": "https://localhost:8080/"
        },
        "id": "ZKaozIurFoYR",
        "outputId": "cbb536a6-9e48-47eb-d868-d0036e30a2e5"
      },
      "outputs": [
        {
          "data": {
            "text/plain": [
              "array([0., 1., 2.])"
            ]
          },
          "execution_count": 133,
          "metadata": {},
          "output_type": "execute_result"
        }
      ],
      "source": [
        "data.target.unique()"
      ]
    },
    {
      "cell_type": "code",
      "execution_count": 134,
      "metadata": {
        "id": "ymqAnRLcFycO"
      },
      "outputs": [],
      "source": [
        "# Divide the data into two parts\n",
        "data1 = data[data['target'].isin([0,1])]\n",
        "data2 = data[data['target'].isin([1,2])]"
      ]
    },
    {
      "cell_type": "code",
      "execution_count": 135,
      "metadata": {
        "colab": {
          "base_uri": "https://localhost:8080/",
          "height": 363
        },
        "id": "uKsFFWECFBOy",
        "outputId": "3985152b-899c-4063-945c-abc6c0e88353"
      },
      "outputs": [
        {
          "data": {
            "text/html": [
              "<div>\n",
              "<style scoped>\n",
              "    .dataframe tbody tr th:only-of-type {\n",
              "        vertical-align: middle;\n",
              "    }\n",
              "\n",
              "    .dataframe tbody tr th {\n",
              "        vertical-align: top;\n",
              "    }\n",
              "\n",
              "    .dataframe thead th {\n",
              "        text-align: right;\n",
              "    }\n",
              "</style>\n",
              "<table border=\"1\" class=\"dataframe\">\n",
              "  <thead>\n",
              "    <tr style=\"text-align: right;\">\n",
              "      <th></th>\n",
              "      <th>sepal length (cm)</th>\n",
              "      <th>sepal width (cm)</th>\n",
              "      <th>petal length (cm)</th>\n",
              "      <th>petal width (cm)</th>\n",
              "      <th>target</th>\n",
              "    </tr>\n",
              "  </thead>\n",
              "  <tbody>\n",
              "    <tr>\n",
              "      <th>0</th>\n",
              "      <td>5.1</td>\n",
              "      <td>3.5</td>\n",
              "      <td>1.4</td>\n",
              "      <td>0.2</td>\n",
              "      <td>0.0</td>\n",
              "    </tr>\n",
              "    <tr>\n",
              "      <th>1</th>\n",
              "      <td>4.9</td>\n",
              "      <td>3.0</td>\n",
              "      <td>1.4</td>\n",
              "      <td>0.2</td>\n",
              "      <td>0.0</td>\n",
              "    </tr>\n",
              "    <tr>\n",
              "      <th>2</th>\n",
              "      <td>4.7</td>\n",
              "      <td>3.2</td>\n",
              "      <td>1.3</td>\n",
              "      <td>0.2</td>\n",
              "      <td>0.0</td>\n",
              "    </tr>\n",
              "    <tr>\n",
              "      <th>3</th>\n",
              "      <td>4.6</td>\n",
              "      <td>3.1</td>\n",
              "      <td>1.5</td>\n",
              "      <td>0.2</td>\n",
              "      <td>0.0</td>\n",
              "    </tr>\n",
              "    <tr>\n",
              "      <th>4</th>\n",
              "      <td>5.0</td>\n",
              "      <td>3.6</td>\n",
              "      <td>1.4</td>\n",
              "      <td>0.2</td>\n",
              "      <td>0.0</td>\n",
              "    </tr>\n",
              "    <tr>\n",
              "      <th>5</th>\n",
              "      <td>5.4</td>\n",
              "      <td>3.9</td>\n",
              "      <td>1.7</td>\n",
              "      <td>0.4</td>\n",
              "      <td>0.0</td>\n",
              "    </tr>\n",
              "    <tr>\n",
              "      <th>6</th>\n",
              "      <td>4.6</td>\n",
              "      <td>3.4</td>\n",
              "      <td>1.4</td>\n",
              "      <td>0.3</td>\n",
              "      <td>0.0</td>\n",
              "    </tr>\n",
              "    <tr>\n",
              "      <th>7</th>\n",
              "      <td>5.0</td>\n",
              "      <td>3.4</td>\n",
              "      <td>1.5</td>\n",
              "      <td>0.2</td>\n",
              "      <td>0.0</td>\n",
              "    </tr>\n",
              "    <tr>\n",
              "      <th>8</th>\n",
              "      <td>4.4</td>\n",
              "      <td>2.9</td>\n",
              "      <td>1.4</td>\n",
              "      <td>0.2</td>\n",
              "      <td>0.0</td>\n",
              "    </tr>\n",
              "    <tr>\n",
              "      <th>9</th>\n",
              "      <td>4.9</td>\n",
              "      <td>3.1</td>\n",
              "      <td>1.5</td>\n",
              "      <td>0.1</td>\n",
              "      <td>0.0</td>\n",
              "    </tr>\n",
              "  </tbody>\n",
              "</table>\n",
              "</div>"
            ],
            "text/plain": [
              "   sepal length (cm)  sepal width (cm)  petal length (cm)  petal width (cm)  \\\n",
              "0                5.1               3.5                1.4               0.2   \n",
              "1                4.9               3.0                1.4               0.2   \n",
              "2                4.7               3.2                1.3               0.2   \n",
              "3                4.6               3.1                1.5               0.2   \n",
              "4                5.0               3.6                1.4               0.2   \n",
              "5                5.4               3.9                1.7               0.4   \n",
              "6                4.6               3.4                1.4               0.3   \n",
              "7                5.0               3.4                1.5               0.2   \n",
              "8                4.4               2.9                1.4               0.2   \n",
              "9                4.9               3.1                1.5               0.1   \n",
              "\n",
              "   target  \n",
              "0     0.0  \n",
              "1     0.0  \n",
              "2     0.0  \n",
              "3     0.0  \n",
              "4     0.0  \n",
              "5     0.0  \n",
              "6     0.0  \n",
              "7     0.0  \n",
              "8     0.0  \n",
              "9     0.0  "
            ]
          },
          "execution_count": 135,
          "metadata": {},
          "output_type": "execute_result"
        }
      ],
      "source": [
        "data1.head(10)"
      ]
    },
    {
      "cell_type": "code",
      "execution_count": 136,
      "metadata": {
        "colab": {
          "base_uri": "https://localhost:8080/",
          "height": 363
        },
        "id": "Jli6Tm_gyJbq",
        "outputId": "db1f016e-10ac-43e4-8310-4f9ab01190cc"
      },
      "outputs": [
        {
          "data": {
            "text/html": [
              "<div>\n",
              "<style scoped>\n",
              "    .dataframe tbody tr th:only-of-type {\n",
              "        vertical-align: middle;\n",
              "    }\n",
              "\n",
              "    .dataframe tbody tr th {\n",
              "        vertical-align: top;\n",
              "    }\n",
              "\n",
              "    .dataframe thead th {\n",
              "        text-align: right;\n",
              "    }\n",
              "</style>\n",
              "<table border=\"1\" class=\"dataframe\">\n",
              "  <thead>\n",
              "    <tr style=\"text-align: right;\">\n",
              "      <th></th>\n",
              "      <th>sepal length (cm)</th>\n",
              "      <th>sepal width (cm)</th>\n",
              "      <th>petal length (cm)</th>\n",
              "      <th>petal width (cm)</th>\n",
              "      <th>target</th>\n",
              "    </tr>\n",
              "  </thead>\n",
              "  <tbody>\n",
              "    <tr>\n",
              "      <th>50</th>\n",
              "      <td>7.0</td>\n",
              "      <td>3.2</td>\n",
              "      <td>4.7</td>\n",
              "      <td>1.4</td>\n",
              "      <td>1.0</td>\n",
              "    </tr>\n",
              "    <tr>\n",
              "      <th>51</th>\n",
              "      <td>6.4</td>\n",
              "      <td>3.2</td>\n",
              "      <td>4.5</td>\n",
              "      <td>1.5</td>\n",
              "      <td>1.0</td>\n",
              "    </tr>\n",
              "    <tr>\n",
              "      <th>52</th>\n",
              "      <td>6.9</td>\n",
              "      <td>3.1</td>\n",
              "      <td>4.9</td>\n",
              "      <td>1.5</td>\n",
              "      <td>1.0</td>\n",
              "    </tr>\n",
              "    <tr>\n",
              "      <th>53</th>\n",
              "      <td>5.5</td>\n",
              "      <td>2.3</td>\n",
              "      <td>4.0</td>\n",
              "      <td>1.3</td>\n",
              "      <td>1.0</td>\n",
              "    </tr>\n",
              "    <tr>\n",
              "      <th>54</th>\n",
              "      <td>6.5</td>\n",
              "      <td>2.8</td>\n",
              "      <td>4.6</td>\n",
              "      <td>1.5</td>\n",
              "      <td>1.0</td>\n",
              "    </tr>\n",
              "    <tr>\n",
              "      <th>55</th>\n",
              "      <td>5.7</td>\n",
              "      <td>2.8</td>\n",
              "      <td>4.5</td>\n",
              "      <td>1.3</td>\n",
              "      <td>1.0</td>\n",
              "    </tr>\n",
              "    <tr>\n",
              "      <th>56</th>\n",
              "      <td>6.3</td>\n",
              "      <td>3.3</td>\n",
              "      <td>4.7</td>\n",
              "      <td>1.6</td>\n",
              "      <td>1.0</td>\n",
              "    </tr>\n",
              "    <tr>\n",
              "      <th>57</th>\n",
              "      <td>4.9</td>\n",
              "      <td>2.4</td>\n",
              "      <td>3.3</td>\n",
              "      <td>1.0</td>\n",
              "      <td>1.0</td>\n",
              "    </tr>\n",
              "    <tr>\n",
              "      <th>58</th>\n",
              "      <td>6.6</td>\n",
              "      <td>2.9</td>\n",
              "      <td>4.6</td>\n",
              "      <td>1.3</td>\n",
              "      <td>1.0</td>\n",
              "    </tr>\n",
              "    <tr>\n",
              "      <th>59</th>\n",
              "      <td>5.2</td>\n",
              "      <td>2.7</td>\n",
              "      <td>3.9</td>\n",
              "      <td>1.4</td>\n",
              "      <td>1.0</td>\n",
              "    </tr>\n",
              "  </tbody>\n",
              "</table>\n",
              "</div>"
            ],
            "text/plain": [
              "    sepal length (cm)  sepal width (cm)  petal length (cm)  petal width (cm)  \\\n",
              "50                7.0               3.2                4.7               1.4   \n",
              "51                6.4               3.2                4.5               1.5   \n",
              "52                6.9               3.1                4.9               1.5   \n",
              "53                5.5               2.3                4.0               1.3   \n",
              "54                6.5               2.8                4.6               1.5   \n",
              "55                5.7               2.8                4.5               1.3   \n",
              "56                6.3               3.3                4.7               1.6   \n",
              "57                4.9               2.4                3.3               1.0   \n",
              "58                6.6               2.9                4.6               1.3   \n",
              "59                5.2               2.7                3.9               1.4   \n",
              "\n",
              "    target  \n",
              "50     1.0  \n",
              "51     1.0  \n",
              "52     1.0  \n",
              "53     1.0  \n",
              "54     1.0  \n",
              "55     1.0  \n",
              "56     1.0  \n",
              "57     1.0  \n",
              "58     1.0  \n",
              "59     1.0  "
            ]
          },
          "execution_count": 136,
          "metadata": {},
          "output_type": "execute_result"
        }
      ],
      "source": [
        "data2.head(10)"
      ]
    },
    {
      "cell_type": "code",
      "execution_count": 137,
      "metadata": {
        "id": "gySRjG5aFBO1"
      },
      "outputs": [],
      "source": [
        "#data1 for target0 and target1\n",
        "data1 = data1[['petal length (cm)', 'petal width (cm)', 'target']]\n",
        "#data2 for target1 and target2\n",
        "data2 = data2[['petal length (cm)', 'petal width (cm)', 'target']]"
      ]
    },
    {
      "cell_type": "code",
      "execution_count": 138,
      "metadata": {
        "colab": {
          "base_uri": "https://localhost:8080/",
          "height": 143
        },
        "id": "wTocIPQQFBO3",
        "outputId": "a96865ac-b6fa-417e-b92f-6efbac49b73a"
      },
      "outputs": [
        {
          "data": {
            "text/html": [
              "<div>\n",
              "<style scoped>\n",
              "    .dataframe tbody tr th:only-of-type {\n",
              "        vertical-align: middle;\n",
              "    }\n",
              "\n",
              "    .dataframe tbody tr th {\n",
              "        vertical-align: top;\n",
              "    }\n",
              "\n",
              "    .dataframe thead th {\n",
              "        text-align: right;\n",
              "    }\n",
              "</style>\n",
              "<table border=\"1\" class=\"dataframe\">\n",
              "  <thead>\n",
              "    <tr style=\"text-align: right;\">\n",
              "      <th></th>\n",
              "      <th>petal length (cm)</th>\n",
              "      <th>petal width (cm)</th>\n",
              "      <th>target</th>\n",
              "    </tr>\n",
              "  </thead>\n",
              "  <tbody>\n",
              "    <tr>\n",
              "      <th>0</th>\n",
              "      <td>1.4</td>\n",
              "      <td>0.2</td>\n",
              "      <td>0.0</td>\n",
              "    </tr>\n",
              "    <tr>\n",
              "      <th>1</th>\n",
              "      <td>1.4</td>\n",
              "      <td>0.2</td>\n",
              "      <td>0.0</td>\n",
              "    </tr>\n",
              "    <tr>\n",
              "      <th>2</th>\n",
              "      <td>1.3</td>\n",
              "      <td>0.2</td>\n",
              "      <td>0.0</td>\n",
              "    </tr>\n",
              "  </tbody>\n",
              "</table>\n",
              "</div>"
            ],
            "text/plain": [
              "   petal length (cm)  petal width (cm)  target\n",
              "0                1.4               0.2     0.0\n",
              "1                1.4               0.2     0.0\n",
              "2                1.3               0.2     0.0"
            ]
          },
          "execution_count": 138,
          "metadata": {},
          "output_type": "execute_result"
        }
      ],
      "source": [
        "data1.head(3)"
      ]
    },
    {
      "cell_type": "code",
      "execution_count": 139,
      "metadata": {
        "colab": {
          "base_uri": "https://localhost:8080/"
        },
        "id": "gLOpKFxpFBO9",
        "outputId": "72f87ad4-a182-4016-be9e-281a9b6f2421"
      },
      "outputs": [
        {
          "name": "stdout",
          "output_type": "stream",
          "text": [
            "(100, 3)\n",
            "(100, 3)\n"
          ]
        }
      ],
      "source": [
        "print(data1.shape)\n",
        "print(data2.shape)"
      ]
    },
    {
      "cell_type": "markdown",
      "metadata": {
        "id": "W31UKfCfFBO_"
      },
      "source": [
        "## Target"
      ]
    },
    {
      "cell_type": "code",
      "execution_count": 140,
      "metadata": {
        "colab": {
          "base_uri": "https://localhost:8080/"
        },
        "id": "C9aLCZQZFBPA",
        "outputId": "13a57884-7768-4e29-e7e5-e13854f3e894"
      },
      "outputs": [
        {
          "data": {
            "text/plain": [
              "0.0    50\n",
              "1.0    50\n",
              "Name: target, dtype: int64"
            ]
          },
          "execution_count": 140,
          "metadata": {},
          "output_type": "execute_result"
        }
      ],
      "source": [
        "data1['target'].value_counts()\n"
      ]
    },
    {
      "cell_type": "code",
      "execution_count": 141,
      "metadata": {
        "colab": {
          "base_uri": "https://localhost:8080/"
        },
        "id": "tVfjzZajylQU",
        "outputId": "1c87ebbd-c0cf-4a1d-d3c7-9dc67fb0a9da"
      },
      "outputs": [
        {
          "data": {
            "text/plain": [
              "1.0    50\n",
              "2.0    50\n",
              "Name: target, dtype: int64"
            ]
          },
          "execution_count": 141,
          "metadata": {},
          "output_type": "execute_result"
        }
      ],
      "source": [
        "data2['target'].value_counts()\n"
      ]
    },
    {
      "cell_type": "markdown",
      "metadata": {
        "id": "ZhdPtfV1FBPC"
      },
      "source": [
        "## Features"
      ]
    },
    {
      "cell_type": "code",
      "execution_count": 142,
      "metadata": {
        "colab": {
          "base_uri": "https://localhost:8080/",
          "height": 544
        },
        "id": "H-hrFD2-FBPC",
        "outputId": "b8744797-44d5-46fe-a281-4a7a0462c869"
      },
      "outputs": [
        {
          "data": {
            "image/png": "[encoded data removed]",
            "text/plain": [
              "<Figure size 432x288 with 1 Axes>"
            ]
          },
          "metadata": {
            "needs_background": "light"
          },
          "output_type": "display_data"
        },
        {
          "data": {
            "image/png": "[encoded data removed]",
            "text/plain": [
              "<Figure size 432x288 with 1 Axes>"
            ]
          },
          "metadata": {
            "needs_background": "light"
          },
          "output_type": "display_data"
        }
      ],
      "source": [
        "\n",
        "# Start with petal length for data1\n",
        "\n",
        "# boxplot \n",
        "plt.boxplot(data1['petal length (cm)'], vert=False)\n",
        "plt.xlabel('petal length')\n",
        "plt.show()\n",
        "\n",
        "# histogram \n",
        "plt.hist(data1['petal length (cm)'])\n",
        "plt.xlabel('petal length')\n",
        "plt.show()"
      ]
    },
    {
      "cell_type": "code",
      "execution_count": 143,
      "metadata": {
        "colab": {
          "base_uri": "https://localhost:8080/",
          "height": 541
        },
        "id": "WgOWkOKBy5n4",
        "outputId": "baff05f4-d74e-43c9-b0a2-ca779591cea5"
      },
      "outputs": [
        {
          "data": {
            "image/png": "[encoded data removed]",
            "text/plain": [
              "<Figure size 432x288 with 1 Axes>"
            ]
          },
          "metadata": {
            "needs_background": "light"
          },
          "output_type": "display_data"
        },
        {
          "data": {
            "image/png": "[encoded data removed]",
            "text/plain": [
              "<Figure size 432x288 with 1 Axes>"
            ]
          },
          "metadata": {
            "needs_background": "light"
          },
          "output_type": "display_data"
        }
      ],
      "source": [
        "#start with petal length for data2\n",
        "\n",
        "# boxplot  \n",
        "plt.boxplot(data2['petal length (cm)'], vert=False)\n",
        "plt.xlabel('petal length')\n",
        "plt.show()\n",
        "\n",
        "# histogram  \n",
        "plt.hist(data2['petal length (cm)'])\n",
        "plt.xlabel('petal length')\n",
        "plt.show()"
      ]
    },
    {
      "cell_type": "code",
      "execution_count": 144,
      "metadata": {
        "colab": {
          "base_uri": "https://localhost:8080/",
          "height": 541
        },
        "id": "-4UmmUz2FBPE",
        "outputId": "b9806c26-f707-403d-8880-ed89cab8e451"
      },
      "outputs": [
        {
          "data": {
            "image/png": "[encoded data removed]",
            "text/plain": [
              "<Figure size 432x288 with 1 Axes>"
            ]
          },
          "metadata": {
            "needs_background": "light"
          },
          "output_type": "display_data"
        },
        {
          "data": {
            "image/png": "[encoded data removed]",
            "text/plain": [
              "<Figure size 432x288 with 1 Axes>"
            ]
          },
          "metadata": {
            "needs_background": "light"
          },
          "output_type": "display_data"
        }
      ],
      "source": [
        "# petal width for data1\n",
        "\n",
        "# boxplot \n",
        "plt.boxplot(data1['petal width (cm)'], vert=False)\n",
        "plt.xlabel('Petal width')\n",
        "plt.show()\n",
        "\n",
        "# histogram \n",
        "plt.hist(data1['petal width (cm)'])\n",
        "plt.xlabel('Petal width')\n",
        "plt.show()"
      ]
    },
    {
      "cell_type": "code",
      "execution_count": 145,
      "metadata": {
        "colab": {
          "base_uri": "https://localhost:8080/",
          "height": 541
        },
        "id": "JWcylbjBzHrD",
        "outputId": "49e6460e-31d1-4577-f91b-c9243196a693"
      },
      "outputs": [
        {
          "data": {
            "image/png": "[encoded data removed]",
            "text/plain": [
              "<Figure size 432x288 with 1 Axes>"
            ]
          },
          "metadata": {
            "needs_background": "light"
          },
          "output_type": "display_data"
        },
        {
          "data": {
            "image/png": "[encoded data removed]",
            "text/plain": [
              "<Figure size 432x288 with 1 Axes>"
            ]
          },
          "metadata": {
            "needs_background": "light"
          },
          "output_type": "display_data"
        }
      ],
      "source": [
        "# petal width for data2\n",
        "\n",
        "# boxplot \n",
        "plt.boxplot(data2['petal width (cm)'], vert=False)\n",
        "plt.xlabel('Petal width')\n",
        "plt.show()\n",
        "\n",
        "# histogram \n",
        "plt.hist(data2['petal width (cm)'])\n",
        "plt.xlabel('Petal width')\n",
        "plt.show()"
      ]
    },
    {
      "cell_type": "markdown",
      "metadata": {
        "id": "0CMwip0pFBPH"
      },
      "source": [
        "### Relation betwen features and target"
      ]
    },
    {
      "cell_type": "code",
      "execution_count": 146,
      "metadata": {
        "colab": {
          "base_uri": "https://localhost:8080/",
          "height": 143
        },
        "id": "v6Fk1NC0FBPH",
        "outputId": "8acbbd82-131e-4f12-c9f1-09ad0ac4c0e1"
      },
      "outputs": [
        {
          "data": {
            "text/html": [
              "<div>\n",
              "<style scoped>\n",
              "    .dataframe tbody tr th:only-of-type {\n",
              "        vertical-align: middle;\n",
              "    }\n",
              "\n",
              "    .dataframe tbody tr th {\n",
              "        vertical-align: top;\n",
              "    }\n",
              "\n",
              "    .dataframe thead th {\n",
              "        text-align: right;\n",
              "    }\n",
              "</style>\n",
              "<table border=\"1\" class=\"dataframe\">\n",
              "  <thead>\n",
              "    <tr style=\"text-align: right;\">\n",
              "      <th></th>\n",
              "      <th>petal length (cm)</th>\n",
              "      <th>petal width (cm)</th>\n",
              "      <th>target</th>\n",
              "    </tr>\n",
              "  </thead>\n",
              "  <tbody>\n",
              "    <tr>\n",
              "      <th>0</th>\n",
              "      <td>1.4</td>\n",
              "      <td>0.2</td>\n",
              "      <td>0.0</td>\n",
              "    </tr>\n",
              "    <tr>\n",
              "      <th>1</th>\n",
              "      <td>1.4</td>\n",
              "      <td>0.2</td>\n",
              "      <td>0.0</td>\n",
              "    </tr>\n",
              "    <tr>\n",
              "      <th>2</th>\n",
              "      <td>1.3</td>\n",
              "      <td>0.2</td>\n",
              "      <td>0.0</td>\n",
              "    </tr>\n",
              "  </tbody>\n",
              "</table>\n",
              "</div>"
            ],
            "text/plain": [
              "   petal length (cm)  petal width (cm)  target\n",
              "0                1.4               0.2     0.0\n",
              "1                1.4               0.2     0.0\n",
              "2                1.3               0.2     0.0"
            ]
          },
          "execution_count": 146,
          "metadata": {},
          "output_type": "execute_result"
        }
      ],
      "source": [
        "data1.head(3)"
      ]
    },
    {
      "cell_type": "code",
      "execution_count": 147,
      "metadata": {
        "colab": {
          "base_uri": "https://localhost:8080/",
          "height": 383
        },
        "id": "D9lPcXVrFBPK",
        "outputId": "b31e55e8-c412-423b-cabc-c8a0ba044f1d"
      },
      "outputs": [
        {
          "name": "stderr",
          "output_type": "stream",
          "text": [
            "C:\\Users\\HP\\AppData\\Local\\Temp\\ipykernel_18180\\953696666.py:2: UserWarning: Boolean Series key will be reindexed to match DataFrame index.\n",
            "  target_0 = data1[data.target == 0]\n",
            "C:\\Users\\HP\\AppData\\Local\\Temp\\ipykernel_18180\\953696666.py:6: UserWarning: Boolean Series key will be reindexed to match DataFrame index.\n",
            "  target_1 = data1[data.target == 1]\n",
            "C:\\Users\\HP\\AppData\\Local\\Temp\\ipykernel_18180\\953696666.py:10: UserWarning: Boolean Series key will be reindexed to match DataFrame index.\n",
            "  target_2 = data2[data.target == 2]\n"
          ]
        },
        {
          "data": {
            "image/png": "[encoded data removed]",
            "text/plain": [
              "<Figure size 432x288 with 1 Axes>"
            ]
          },
          "metadata": {
            "needs_background": "light"
          },
          "output_type": "display_data"
        }
      ],
      "source": [
        "# for target 0 \n",
        "target_0 = data1[data.target == 0]\n",
        "plt.scatter(target_0['petal length (cm)'], target_0['petal width (cm)'], color='blue', label='target 0')\n",
        "\n",
        "# for target 1 \n",
        "target_1 = data1[data.target == 1]\n",
        "plt.scatter(target_1['petal length (cm)'], target_1['petal width (cm)'], color='red', label='target 1')\n",
        "\n",
        "# for target 2 \n",
        "target_2 = data2[data.target == 2]\n",
        "plt.scatter(target_2['petal length (cm)'], target_2['petal width (cm)'], color='yellow', label='target 2')\n",
        "\n",
        "\n",
        "plt.legend()\n",
        "plt.xlabel('petal length (cm)')\n",
        "plt.ylabel('petal width (cm)')\n",
        "\n",
        "plt.show()"
      ]
    },
    {
      "cell_type": "markdown",
      "metadata": {
        "id": "g5J0MUmzFBPM"
      },
      "source": [
        "## Randomize data "
      ]
    },
    {
      "cell_type": "code",
      "execution_count": 148,
      "metadata": {
        "id": "OYYr8OTCFBPM",
        "scrolled": true
      },
      "outputs": [],
      "source": [
        "data1 = data1.sample(frac=1, random_state = 42)\n",
        "data2 = data2.sample(frac=1, random_state = 42)"
      ]
    },
    {
      "cell_type": "markdown",
      "metadata": {
        "id": "SLLfV7hNFBPP"
      },
      "source": [
        "### Separate data to train and test"
      ]
    },
    {
      "cell_type": "code",
      "execution_count": 149,
      "metadata": {
        "id": "HzTwnHaiFBPQ"
      },
      "outputs": [],
      "source": [
        "from sklearn.model_selection import train_test_split"
      ]
    },
    {
      "cell_type": "code",
      "execution_count": 177,
      "metadata": {
        "id": "gH3HEpwTFBPT"
      },
      "outputs": [],
      "source": [
        "# Separate data to train and test\n",
        "data1_train, data1_test = train_test_split(data1, test_size=0.2)\n",
        "data2_train, data2_test = train_test_split(data2, test_size=0.2)"
      ]
    },
    {
      "cell_type": "code",
      "execution_count": 151,
      "metadata": {
        "colab": {
          "base_uri": "https://localhost:8080/"
        },
        "id": "qQtORxekFBPV",
        "outputId": "a868a698-f822-4f5c-abca-03f6b501c365"
      },
      "outputs": [
        {
          "name": "stdout",
          "output_type": "stream",
          "text": [
            "(100, 3)\n"
          ]
        }
      ],
      "source": [
        "print(data1.shape)"
      ]
    },
    {
      "cell_type": "code",
      "execution_count": 152,
      "metadata": {
        "colab": {
          "base_uri": "https://localhost:8080/"
        },
        "id": "E1n6UhTYFBPY",
        "outputId": "883ac86d-5c3c-4d3a-8d26-26257fbde196"
      },
      "outputs": [
        {
          "name": "stdout",
          "output_type": "stream",
          "text": [
            "(80, 3)\n"
          ]
        }
      ],
      "source": [
        "print(data2_train.shape)"
      ]
    },
    {
      "cell_type": "code",
      "execution_count": 153,
      "metadata": {
        "colab": {
          "base_uri": "https://localhost:8080/"
        },
        "id": "XfNrQyMAFBPb",
        "outputId": "3578fe43-e763-42eb-a75a-ebcdbbcc46bf"
      },
      "outputs": [
        {
          "name": "stdout",
          "output_type": "stream",
          "text": [
            "(20, 3)\n"
          ]
        }
      ],
      "source": [
        "print(data2_test.shape)"
      ]
    },
    {
      "cell_type": "code",
      "execution_count": 178,
      "metadata": {
        "colab": {
          "base_uri": "https://localhost:8080/",
          "height": 279
        },
        "id": "COVJCJ-FFBPd",
        "outputId": "7de5e3e2-3f58-4654-d1f8-5064b78f9338"
      },
      "outputs": [
        {
          "data": {
            "image/png": "[encoded data removed]",
            "text/plain": [
              "<Figure size 432x288 with 1 Axes>"
            ]
          },
          "metadata": {
            "needs_background": "light"
          },
          "output_type": "display_data"
        }
      ],
      "source": [
        "# plot training_1 ant testing_1\n",
        "plt.scatter(data1_train['petal length (cm)'], data1_train['petal width (cm)'], color='red', label='training_1')\n",
        "plt.scatter(data1_test['petal length (cm)'], data1_test['petal width (cm)'], color='green', label='testing_1')\n",
        "\n",
        "plt.legend()\n",
        "plt.xlabel('petal length (cm)')\n",
        "plt.ylabel('petal width (cm)')\n",
        "\n",
        "plt.show()"
      ]
    },
    {
      "cell_type": "code",
      "execution_count": 179,
      "metadata": {
        "colab": {
          "base_uri": "https://localhost:8080/",
          "height": 279
        },
        "id": "EoM9TAP30Dv8",
        "outputId": "8e9ccc67-f622-449e-e992-80be2e030f73"
      },
      "outputs": [
        {
          "data": {
            "image/png": "[encoded data removed]",
            "text/plain": [
              "<Figure size 432x288 with 1 Axes>"
            ]
          },
          "metadata": {
            "needs_background": "light"
          },
          "output_type": "display_data"
        }
      ],
      "source": [
        "# plot training_2 ant testing_2\n",
        "plt.scatter(data2_train['petal length (cm)'], data2_train['petal width (cm)'], color='red', label='training_2')\n",
        "plt.scatter(data2_test['petal length (cm)'], data2_test['petal width (cm)'], color='green', label='testing_2')\n",
        "\n",
        "plt.legend()\n",
        "plt.xlabel('petal length (cm)')\n",
        "plt.ylabel('petal width (cm)')\n",
        "\n",
        "plt.show()"
      ]
    },
    {
      "cell_type": "markdown",
      "metadata": {
        "id": "7u8PUiTrFBPf"
      },
      "source": [
        "### Train logistic regression "
      ]
    },
    {
      "cell_type": "code",
      "execution_count": 156,
      "metadata": {
        "id": "COYrQPCyFBPf"
      },
      "outputs": [],
      "source": [
        "X1_train = data1_train[['petal length (cm)', 'petal width (cm)']]\n",
        "y1_train = data1_train['target']\n",
        "\n",
        "\n",
        "X1_test = data1_test[['petal length (cm)', 'petal width (cm)']]\n",
        "y1_test = data1_test['target']"
      ]
    },
    {
      "cell_type": "code",
      "execution_count": 157,
      "metadata": {
        "id": "w7xooBJs0Mc7"
      },
      "outputs": [],
      "source": [
        "X2_train = data2_train[['petal length (cm)', 'petal width (cm)']]\n",
        "y2_train = data2_train['target']\n",
        "\n",
        "\n",
        "X2_test = data2_test[['petal length (cm)', 'petal width (cm)']]\n",
        "y2_test = data2_test['target']"
      ]
    },
    {
      "cell_type": "code",
      "execution_count": 158,
      "metadata": {
        "colab": {
          "base_uri": "https://localhost:8080/"
        },
        "id": "ztyJwcYbFBPh",
        "outputId": "81fb1197-38ad-4403-b985-2516ee68f4da"
      },
      "outputs": [
        {
          "data": {
            "text/plain": [
              "LogisticRegression()"
            ]
          },
          "execution_count": 158,
          "metadata": {},
          "output_type": "execute_result"
        }
      ],
      "source": [
        "from sklearn.linear_model import LogisticRegression\n",
        "logisticRegr1 = LogisticRegression()\n",
        "logisticRegr1.fit(X1_train, y1_train)"
      ]
    },
    {
      "cell_type": "code",
      "execution_count": 159,
      "metadata": {
        "colab": {
          "base_uri": "https://localhost:8080/"
        },
        "id": "_ThYjS6T0aBk",
        "outputId": "45ed9cb8-a395-437d-809b-62b09e93834b"
      },
      "outputs": [
        {
          "data": {
            "text/plain": [
              "LogisticRegression()"
            ]
          },
          "execution_count": 159,
          "metadata": {},
          "output_type": "execute_result"
        }
      ],
      "source": [
        "from sklearn.linear_model import LogisticRegression\n",
        "logisticRegr2 = LogisticRegression()\n",
        "logisticRegr2.fit(X2_train, y2_train)"
      ]
    },
    {
      "cell_type": "markdown",
      "metadata": {
        "id": "2i8eG8aWFBPj"
      },
      "source": [
        "### Logistic regression  "
      ]
    },
    {
      "cell_type": "markdown",
      "metadata": {
        "id": "dbxA2QyOFBPk"
      },
      "source": [
        "Formule of logistic regression \n",
        "1) Classification betwen target 1 and target 0\n",
        "$$p(y=1|x; \\theta) = \\frac{1}{1 + e^{\\theta_0 + \\theta_1 x_1 + \\theta_2 x_2}}$$\n",
        "\n",
        "Donc\n",
        "$$\\theta_0 + \\theta_1 x_1 + \\theta_2 x_2 = log(\\frac{p}{1-p})$$\n",
        "\n",
        "D'ou\n",
        "$$\\theta_0 + \\theta_1 x_1 + \\theta_2 x_2 = 0$$ \n",
        "\n",
        "Alors\n",
        "$$x_2 = \\frac{1}{\\theta_2} (\\theta_0 + \\theta_1 x_1)$$ \n",
        "2) Classification betwen target 2 and target 1\n",
        "$$p(y=1|x; \\theta) = \\frac{1}{1 + e^{\\theta_{01} + \\theta_1 x_3 + \\theta_{21} x_2}}$$\n",
        "\n",
        "Donc\n",
        "$$\\theta_{01} + \\theta_3 x_3 + \\theta_{21} x_2 = log(\\frac{p}{1-p})$$\n",
        "\n",
        "D'ou\n",
        "$$\\theta_{01} + \\theta_3 x_3 + \\theta_{21} x_2 = 0$$ \n",
        "\n",
        "Alors\n",
        "$$x_3 = \\frac{1}{\\theta_3} (\\theta_{01} + \\theta_{21} x_2)$$ "
      ]
    },
    {
      "cell_type": "code",
      "execution_count": 160,
      "metadata": {
        "colab": {
          "base_uri": "https://localhost:8080/"
        },
        "id": "UjZyqzKHFBPk",
        "outputId": "cedce2ed-76e9-4b18-bc83-e99b59531480"
      },
      "outputs": [
        {
          "data": {
            "text/plain": [
              "array([[2.44228063, 1.03243982]])"
            ]
          },
          "execution_count": 160,
          "metadata": {},
          "output_type": "execute_result"
        }
      ],
      "source": [
        "logisticRegr1.coef_"
      ]
    },
    {
      "cell_type": "code",
      "execution_count": 161,
      "metadata": {
        "colab": {
          "base_uri": "https://localhost:8080/"
        },
        "id": "rtzyqXmR0vBy",
        "outputId": "6afdbe6d-2287-41b3-a17e-cc8712a2059c"
      },
      "outputs": [
        {
          "data": {
            "text/plain": [
              "array([[2.61967377, 2.11816413]])"
            ]
          },
          "execution_count": 161,
          "metadata": {},
          "output_type": "execute_result"
        }
      ],
      "source": [
        "logisticRegr2.coef_"
      ]
    },
    {
      "cell_type": "code",
      "execution_count": 162,
      "metadata": {
        "colab": {
          "base_uri": "https://localhost:8080/"
        },
        "id": "2NUlGfZ2FBPn",
        "outputId": "a98f08a2-5f65-472c-aaaa-ece4217d6bc7"
      },
      "outputs": [
        {
          "data": {
            "text/plain": [
              "array([-7.57396941])"
            ]
          },
          "execution_count": 162,
          "metadata": {},
          "output_type": "execute_result"
        }
      ],
      "source": [
        "logisticRegr1.intercept_"
      ]
    },
    {
      "cell_type": "code",
      "execution_count": 163,
      "metadata": {
        "colab": {
          "base_uri": "https://localhost:8080/"
        },
        "id": "oJqoE3Hl00XJ",
        "outputId": "d50a3bef-a266-433f-a1c2-42ceeddf1e4c"
      },
      "outputs": [
        {
          "data": {
            "text/plain": [
              "array([-16.27881949])"
            ]
          },
          "execution_count": 163,
          "metadata": {},
          "output_type": "execute_result"
        }
      ],
      "source": [
        "logisticRegr2.intercept_"
      ]
    },
    {
      "cell_type": "code",
      "execution_count": 164,
      "metadata": {
        "id": "sLAJL3HzFBPs"
      },
      "outputs": [],
      "source": [
        "theta_0 = logisticRegr1.intercept_[0]\n",
        "theta_1 = logisticRegr1.coef_[0, 0]\n",
        "theta_2 = logisticRegr1.coef_[0, 1]\n",
        "theta_01 = logisticRegr2.intercept_[0]\n",
        "theta_21 = logisticRegr2.coef_[0, 0]\n",
        "theta_3 = logisticRegr2.coef_[0, 1]"
      ]
    },
    {
      "cell_type": "code",
      "execution_count": 165,
      "metadata": {
        "colab": {
          "base_uri": "https://localhost:8080/",
          "height": 279
        },
        "id": "8obgeHULFBPu",
        "outputId": "4c4b8a59-1613-4aa5-e3e1-cfa2eba702f4"
      },
      "outputs": [
        {
          "data": {
            "image/png": "[encoded data removed]",
            "text/plain": [
              "<Figure size 432x288 with 1 Axes>"
            ]
          },
          "metadata": {
            "needs_background": "light"
          },
          "output_type": "display_data"
        }
      ],
      "source": [
        "\n",
        "def decision_boundary(theta_0, theta_1, theta_2, l_x):\n",
        "    return 1 / theta_2 * (-theta_0 -theta_1 * l_x)\n",
        "\n",
        "# target = 0 \n",
        "target_0 = data1[data1.target == 0]\n",
        "plt.scatter(target_0['petal length (cm)'], target_0['petal width (cm)'], color='blue', label='target 0')\n",
        "\n",
        "target_1 = data2[data2.target == 1]\n",
        "plt.scatter(target_1['petal length (cm)'], target_1['petal width (cm)'], color='red', label='target 1')\n",
        "#target 1 \n",
        "target_2 = data2[data2.target == 2]\n",
        "plt.scatter(target_2['petal length (cm)'], target_2['petal width (cm)'], color='yellow', label='target 2') \n",
        "\n",
        "l_x1 = np.linspace(1, 5)\n",
        "l_x2 = np.linspace(1, 7)\n",
        "l_y = decision_boundary(theta_0, theta_1, theta_2, l_x1)\n",
        "l_z = decision_boundary(theta_01, theta_21, theta_3, l_x2)\n",
        "plt.plot(l_x1, l_y, label='boundary(0_1)')\n",
        "plt.plot(l_x2,l_z, label='boundary(1_2)')\n",
        "plt.legend()\n",
        "plt.xlabel('petal length (cm)')\n",
        "plt.ylabel('petal width (cm)')\n",
        "\n",
        "plt.show()"
      ]
    },
    {
      "cell_type": "markdown",
      "metadata": {
        "id": "4cS0-BGUFBPx"
      },
      "source": [
        "#### Confusion Matrix \n",
        "\n"
      ]
    },
    {
      "cell_type": "markdown",
      "metadata": {
        "id": "BVrqmeYxKc_t"
      },
      "source": [
        "[<img src=\"https://static.packt-cdn.com/products/9781838555078/graphics/C13314_06_05.jpg\">]"
      ]
    },
    {
      "cell_type": "code",
      "execution_count": 166,
      "metadata": {
        "colab": {
          "base_uri": "https://localhost:8080/"
        },
        "id": "tAAyhVo-FBPy",
        "outputId": "27bfde08-fcc0-4cc9-8054-04aeab4ac2a2"
      },
      "outputs": [
        {
          "name": "stdout",
          "output_type": "stream",
          "text": [
            "predictions: [1. 1. 0. 0. 1. 1. 1. 1. 1. 0. 1. 1. 1. 1. 1. 1. 0. 1. 1. 1.]\n",
            "true: [1, 1, 0, 0, 1, 1, 1, 1, 1, 0, 1, 1, 1, 1, 1, 1, 0, 1, 1, 1]\n"
          ]
        }
      ],
      "source": [
        "y1_pred = logisticRegr1.predict(X1_test)\n",
        "\n",
        "print('predictions: {}'.format(y1_pred))\n",
        "print('true: {}'.format(list(y1_test.astype(int))))"
      ]
    },
    {
      "cell_type": "code",
      "execution_count": 167,
      "metadata": {},
      "outputs": [
        {
          "name": "stdout",
          "output_type": "stream",
          "text": [
            "predictions: [1. 1. 1. 1. 1. 1. 1. 1. 1. 1. 1. 1. 1. 1. 1. 1. 1. 1. 1. 1.]\n",
            "true: [1, 2, 2, 1, 1, 2, 2, 1, 2, 1, 2, 1, 2, 2, 2, 1, 2, 1, 1, 2]\n"
          ]
        }
      ],
      "source": [
        "y2_pred = logisticRegr1.predict(X2_test)\n",
        "\n",
        "print('predictions: {}'.format(y2_pred))\n",
        "print('true: {}'.format(list(y2_test.astype(int))))"
      ]
    },
    {
      "cell_type": "code",
      "execution_count": 168,
      "metadata": {
        "id": "Zu8KgbziFBP1"
      },
      "outputs": [],
      "source": [
        "from sklearn.metrics import confusion_matrix\n",
        "# confusion matrix \n",
        "cm1 = confusion_matrix(y_true=y1_test, y_pred=y1_pred)\n",
        "cm2 = confusion_matrix(y_true=y2_test, y_pred=y2_pred)\n",
        "\n"
      ]
    },
    {
      "cell_type": "code",
      "execution_count": 169,
      "metadata": {
        "colab": {
          "base_uri": "https://localhost:8080/",
          "height": 0
        },
        "id": "Q5SNrrGAFBP3",
        "outputId": "12554e56-ca8c-4dac-de2f-1b10ebd61d22"
      },
      "outputs": [
        {
          "data": {
            "image/png": "[encoded data removed]",
            "text/plain": [
              "<Figure size 432x288 with 1 Axes>"
            ]
          },
          "metadata": {
            "needs_background": "light"
          },
          "output_type": "display_data"
        }
      ],
      "source": [
        " \n",
        "ax= plt.subplot()\n",
        "sns.heatmap(cm1, annot=True, ax = ax, cbar=False)\n",
        "\n",
        "# labels, title and ticks\n",
        "ax.set_xlabel('Predicted labels')\n",
        "ax.set_ylabel('True labels')\n",
        "ax.set_title('Confusion Matrix')\n",
        "ax.xaxis.set_ticklabels(['target=0', 'target=1'])\n",
        "ax.yaxis.set_ticklabels(['target=0', 'target=1'])\n",
        "plt.show()"
      ]
    },
    {
      "cell_type": "code",
      "execution_count": 170,
      "metadata": {},
      "outputs": [],
      "source": [
        "# true negative \n",
        "TN1 = 12\n",
        "# true positive \n",
        "TP1 = 8\n",
        "# false negative \n",
        "FN1 = 0 \n",
        "# false positive \n",
        "FP1 = 0"
      ]
    },
    {
      "cell_type": "code",
      "execution_count": 171,
      "metadata": {},
      "outputs": [
        {
          "data": {
            "image/png": "[encoded data removed]",
            "text/plain": [
              "<Figure size 432x288 with 1 Axes>"
            ]
          },
          "metadata": {
            "needs_background": "light"
          },
          "output_type": "display_data"
        }
      ],
      "source": [
        "ax= plt.subplot()\n",
        "sns.heatmap(cm2, annot=True, ax = ax, cbar=False)\n",
        "\n",
        "# labels, title and ticks\n",
        "ax.set_xlabel('Predicted labels')\n",
        "ax.set_ylabel('True labels')\n",
        "ax.set_title('Confusion Matrix')\n",
        "ax.xaxis.set_ticklabels(['target=1', 'target=2'])\n",
        "ax.yaxis.set_ticklabels(['target=1', 'target=2'])\n",
        "plt.show()"
      ]
    },
    {
      "cell_type": "code",
      "execution_count": 172,
      "metadata": {
        "id": "zdt5L91JFBP5"
      },
      "outputs": [],
      "source": [
        "# true negative \n",
        "TN2 = 12\n",
        "# true positive \n",
        "TP2 = 0\n",
        "# false negative \n",
        "FN2 = 8 \n",
        "# false positive \n",
        "FP2 = 0"
      ]
    },
    {
      "cell_type": "markdown",
      "metadata": {
        "id": "rMGfg3HzFBP7"
      },
      "source": [
        "#### Accuracy "
      ]
    },
    {
      "cell_type": "code",
      "execution_count": 173,
      "metadata": {
        "colab": {
          "base_uri": "https://localhost:8080/"
        },
        "id": "-qCpJ4eCFBP7",
        "outputId": "117ab30b-f5d5-4158-957b-473de7d4625d",
        "scrolled": true
      },
      "outputs": [
        {
          "name": "stdout",
          "output_type": "stream",
          "text": [
            "100.0 %\n"
          ]
        }
      ],
      "source": [
        "accuracy1 = (TN1 + TP1) / (TN1 + TP1 + FP1 + FN1) * 100\n",
        "print(accuracy1, '%')"
      ]
    },
    {
      "cell_type": "markdown",
      "metadata": {
        "id": "XE9-NYmeFBP9"
      },
      "source": [
        "#### Precision "
      ]
    },
    {
      "cell_type": "code",
      "execution_count": 174,
      "metadata": {
        "colab": {
          "base_uri": "https://localhost:8080/"
        },
        "id": "EtOw8zOZFBP-",
        "outputId": "ff9df6e5-47b2-4a1f-8714-7ee8f925c50b"
      },
      "outputs": [
        {
          "name": "stdout",
          "output_type": "stream",
          "text": [
            "100.0 %\n"
          ]
        }
      ],
      "source": [
        "precision1 = TP1 / (TP1 + FP1) * 100\n",
        "print(precision1, '%')"
      ]
    },
    {
      "cell_type": "markdown",
      "metadata": {
        "id": "tbE_icm-FBP_"
      },
      "source": [
        "#### Recall \n"
      ]
    },
    {
      "cell_type": "code",
      "execution_count": 175,
      "metadata": {
        "colab": {
          "base_uri": "https://localhost:8080/"
        },
        "id": "LOqRVc9uFBQA",
        "outputId": "08ea2c89-d38b-4f1d-9a3c-15c8f9ca6ed3"
      },
      "outputs": [
        {
          "name": "stdout",
          "output_type": "stream",
          "text": [
            "100.0 %\n"
          ]
        }
      ],
      "source": [
        "recall1 = TP1 / (TP1 + FN1) * 100\n",
        "print(recall1, '%')"
      ]
    },
    {
      "cell_type": "code",
      "execution_count": 176,
      "metadata": {},
      "outputs": [
        {
          "name": "stdout",
          "output_type": "stream",
          "text": [
            "60.0 %\n",
            "0.0 %\n"
          ]
        }
      ],
      "source": [
        "accuracy2 = (TN2 + TP2) / (TN2 + TP2 + FP2 + FN2) * 100\n",
        "print(accuracy2, '%')\n",
        "recall2 = TP2 / (TP2 + FN2) * 100\n",
        "print(recall2, '%')"
      ]
    },
    {
      "cell_type": "markdown",
      "metadata": {},
      "source": [
        "# FIN"
      ]
    }
  ],
  "metadata": {
    "colab": {
      "name": "Logistic Regression Example .ipynb",
      "provenance": []
    },
    "kernelspec": {
      "display_name": "Python 3.9.12 ('base')",
      "language": "python",
      "name": "python3"
    },
    "language_info": {
      "codemirror_mode": {
        "name": "ipython",
        "version": 3
      },
      "file_extension": ".py",
      "mimetype": "text/x-python",
      "name": "python",
      "nbconvert_exporter": "python",
      "pygments_lexer": "ipython3",
      "version": "3.9.12"
    },
    "vscode": {
      "interpreter": {
        "hash": "dc07d24e2f18896857f0b2a651fe84ba40ce7b297e58d8804a308c8039f752a6"
      }
    }
  },
  "nbformat": 4,
  "nbformat_minor": 0
}
